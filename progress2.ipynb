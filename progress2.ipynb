{
 "cells": [
  {
   "cell_type": "code",
   "execution_count": 22,
   "metadata": {},
   "outputs": [
    {
     "ename": "IndexError",
     "evalue": "list index out of range",
     "output_type": "error",
     "traceback": [
      "\u001b[1;31m---------------------------------------------------------------------------\u001b[0m",
      "\u001b[1;31mIndexError\u001b[0m                                Traceback (most recent call last)",
      "Cell \u001b[1;32mIn[22], line 55\u001b[0m\n\u001b[0;32m     53\u001b[0m c \u001b[39m=\u001b[39m Coloring()\n\u001b[0;32m     54\u001b[0m c\u001b[39m.\u001b[39mreadFile(\u001b[39m\"\u001b[39m\u001b[39mexample1.txt\u001b[39m\u001b[39m\"\u001b[39m)\n\u001b[1;32m---> 55\u001b[0m c\u001b[39m.\u001b[39;49msolve()\n",
      "Cell \u001b[1;32mIn[22], line 42\u001b[0m, in \u001b[0;36mColoring.solve\u001b[1;34m(self)\u001b[0m\n\u001b[0;32m     40\u001b[0m \u001b[39mfor\u001b[39;00m i \u001b[39min\u001b[39;00m \u001b[39mrange\u001b[39m(\u001b[39mself\u001b[39m\u001b[39m.\u001b[39mrow):\n\u001b[0;32m     41\u001b[0m     \u001b[39mfor\u001b[39;00m j \u001b[39min\u001b[39;00m \u001b[39mrange\u001b[39m(\u001b[39mself\u001b[39m\u001b[39m.\u001b[39mcol):\n\u001b[1;32m---> 42\u001b[0m         \u001b[39mif\u001b[39;00m model[number] \u001b[39m>\u001b[39m \u001b[39m0\u001b[39m:\n\u001b[0;32m     43\u001b[0m             \u001b[39mprint\u001b[39m(\u001b[39mself\u001b[39m\u001b[39m.\u001b[39mgreen(\u001b[39mself\u001b[39m\u001b[39m.\u001b[39mmaze[i][j]), end \u001b[39m=\u001b[39m \u001b[39m'\u001b[39m\u001b[39m'\u001b[39m)\n\u001b[0;32m     44\u001b[0m         \u001b[39melse\u001b[39;00m:\n",
      "\u001b[1;31mIndexError\u001b[0m: list index out of range"
     ]
    }
   ],
   "source": [
    "from pysat.solvers import Glucose3\n",
    "class Coloring:\n",
    "    def __init__(self) -> None:\n",
    "        self.solver = Glucose3()\n",
    "        self.row = 0\n",
    "        self.col = 0\n",
    "        self.maze = []\n",
    "\n",
    "    # đọc file\n",
    "    def readFile(self, fileName):\n",
    "        with open(fileName, 'r') as f:\n",
    "            lines = f.readlines()\n",
    "            self.row, self.col = map(int, lines[0].strip().split())\n",
    "            for line in lines[1:]:\n",
    "                row_data = []\n",
    "                for item in line.split():\n",
    "                    if item.isdigit():\n",
    "                        row_data.append(int(item))\n",
    "                    else:\n",
    "                        row_data.append(item)\n",
    "                self.maze.append(row_data)\n",
    "        f.close()\n",
    "\n",
    "    # tô màu\n",
    "    def red(self,text):\n",
    "        return f\"\\033[1;37;41m{text}\\033[0;0m\"\n",
    "    def green(self,text):\n",
    "        return f\"\\033[1;37;42m{text}\\033[0;0m\" \n",
    "    \n",
    "    def solve(self):\n",
    "        \n",
    "\n",
    "        \n",
    "\n",
    "        # in kết quả\n",
    "        if self.solver.solve():\n",
    "            number = 0\n",
    "            model = self.solver.get_model()\n",
    "            for i in range(self.row):\n",
    "                for j in range(self.col):\n",
    "                    if model[number] > 0:\n",
    "                        print(self.green(self.maze[i][j]), end = '')\n",
    "                    else:\n",
    "                        print(self.red(self.maze[i][j]), end = '')\n",
    "                    number += 1\n",
    "                print()\n",
    "        else:\n",
    "            print(\"UNSAT\")\n",
    "\n",
    "\n",
    "# test\n",
    "c = Coloring()\n",
    "c.readFile(\"example1.txt\")\n",
    "c.solve()\n"
   ]
  }
 ],
 "metadata": {
  "kernelspec": {
   "display_name": "Python 3",
   "language": "python",
   "name": "python3"
  },
  "language_info": {
   "codemirror_mode": {
    "name": "ipython",
    "version": 3
   },
   "file_extension": ".py",
   "mimetype": "text/x-python",
   "name": "python",
   "nbconvert_exporter": "python",
   "pygments_lexer": "ipython3",
   "version": "3.11.3"
  },
  "orig_nbformat": 4
 },
 "nbformat": 4,
 "nbformat_minor": 2
}
