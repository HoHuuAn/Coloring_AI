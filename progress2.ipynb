{
 "cells": [
  {
   "cell_type": "code",
   "execution_count": 88,
   "metadata": {},
   "outputs": [],
   "source": [
    "from pysat.solvers import Glucose3\n",
    "import itertools\n",
    "class Coloring:\n",
    "    def __init__(self) -> None:\n",
    "        self.solver = Glucose3()\n",
    "        self.row = 0\n",
    "        self.col = 0\n",
    "        self.maze = []\n",
    "\n",
    "    # đọc file\n",
    "    def readFile(self, fileName):\n",
    "        with open(fileName, 'r') as f:\n",
    "            lines = f.readlines()\n",
    "            self.row, self.col = map(int, lines[0].strip().split())\n",
    "            for line in lines[1:]:\n",
    "                row_data = []\n",
    "                for item in line.split():\n",
    "                    if item.isdigit():\n",
    "                        row_data.append(int(item))\n",
    "                    else:\n",
    "                        row_data.append(item)\n",
    "                self.maze.append(row_data)\n",
    "        f.close()\n",
    "\n",
    "    # tô màu\n",
    "    def red(self,text):\n",
    "        return f\"\\033[1;37;41m{text}\\033[0;0m\"\n",
    "    def green(self,text):\n",
    "        return f\"\\033[1;37;42m{text}\\033[0;0m\" \n",
    "    \n",
    "    # add clause\n",
    "    def addClause(self, listPoint: list, value):\n",
    "        for pairs in itertools.combinations(listPoint, value + 1):\n",
    "            arr = [-x for x in pairs]\n",
    "            self.solver.add_clause(list(arr))\n",
    "        for pairs in itertools.combinations(listPoint, len(listPoint) - value + 1):\n",
    "            self.solver.add_clause(list(pairs))\n",
    "\n",
    "    # get neighbors point of position\n",
    "    def getNeighbors(self, arr, i, j):\n",
    "        neighbors = [arr[i][j]]\n",
    "        for x in range(i-1, i+2):\n",
    "            for y in range(j-1, j+2):\n",
    "                if (x >= 0 and x < len(arr)) and (y >= 0 and y < len(arr[0])):\n",
    "                    if (x, y) != (i, j):\n",
    "                        neighbors.append(arr[x][y])\n",
    "        return neighbors\n",
    "    \n",
    "    def solve(self):\n",
    "        for row in range(self.row):\n",
    "            for col in range(self.col):\n",
    "                if isinstance(self.maze[row][col], int):\n",
    "                    self.addClause(\n",
    "                        self.getNeighbors( [[num for num in range((i * self.col) + 1, (i + 1) * self.col + 1)] for i in range(self.row)], row, col)\n",
    "                                   , self.maze[row][col])\n",
    "        # in kết quả\n",
    "        if self.solver.solve():\n",
    "            number = 0\n",
    "            model = self.solver.get_model()\n",
    "            for i in range(self.row):\n",
    "                for j in range(self.col):\n",
    "                    text = str(self.maze[i][j]) if isinstance(self.maze[i][j], int) else \" \"\n",
    "                    if model[number] > 0:\n",
    "                        print(self.green( text + \" \"), end = '')\n",
    "                    else:\n",
    "                        print(self.red( text + \" \"), end = '')\n",
    "                    number += 1\n",
    "                print()\n",
    "        else:\n",
    "            print(\"UNSAT\")"
   ]
  },
  {
   "cell_type": "code",
   "execution_count": 89,
   "metadata": {},
   "outputs": [
    {
     "name": "stdout",
     "output_type": "stream",
     "text": [
      "\u001b[1;37;41m  \u001b[0;0m\u001b[1;37;42m2 \u001b[0;0m\u001b[1;37;42m3 \u001b[0;0m\u001b[1;37;41m  \u001b[0;0m\u001b[1;37;41m  \u001b[0;0m\u001b[1;37;41m0 \u001b[0;0m\u001b[1;37;41m  \u001b[0;0m\u001b[1;37;41m  \u001b[0;0m\u001b[1;37;42m  \u001b[0;0m\u001b[1;37;42m  \u001b[0;0m\n",
      "\u001b[1;37;41m  \u001b[0;0m\u001b[1;37;41m  \u001b[0;0m\u001b[1;37;41m  \u001b[0;0m\u001b[1;37;42m  \u001b[0;0m\u001b[1;37;41m3 \u001b[0;0m\u001b[1;37;41m  \u001b[0;0m\u001b[1;37;41m2 \u001b[0;0m\u001b[1;37;42m  \u001b[0;0m\u001b[1;37;42m  \u001b[0;0m\u001b[1;37;42m6 \u001b[0;0m\n",
      "\u001b[1;37;41m  \u001b[0;0m\u001b[1;37;41m  \u001b[0;0m\u001b[1;37;42m5 \u001b[0;0m\u001b[1;37;42m  \u001b[0;0m\u001b[1;37;42m5 \u001b[0;0m\u001b[1;37;41m3 \u001b[0;0m\u001b[1;37;41m  \u001b[0;0m\u001b[1;37;42m5 \u001b[0;0m\u001b[1;37;42m7 \u001b[0;0m\u001b[1;37;42m4 \u001b[0;0m\n",
      "\u001b[1;37;41m  \u001b[0;0m\u001b[1;37;42m4 \u001b[0;0m\u001b[1;37;42m  \u001b[0;0m\u001b[1;37;41m5 \u001b[0;0m\u001b[1;37;42m  \u001b[0;0m\u001b[1;37;42m5 \u001b[0;0m\u001b[1;37;41m  \u001b[0;0m\u001b[1;37;42m6 \u001b[0;0m\u001b[1;37;41m  \u001b[0;0m\u001b[1;37;41m3 \u001b[0;0m\n",
      "\u001b[1;37;41m  \u001b[0;0m\u001b[1;37;42m  \u001b[0;0m\u001b[1;37;41m4 \u001b[0;0m\u001b[1;37;41m  \u001b[0;0m\u001b[1;37;41m5 \u001b[0;0m\u001b[1;37;42m  \u001b[0;0m\u001b[1;37;42m6 \u001b[0;0m\u001b[1;37;42m  \u001b[0;0m\u001b[1;37;42m  \u001b[0;0m\u001b[1;37;41m3 \u001b[0;0m\n",
      "\u001b[1;37;42m  \u001b[0;0m\u001b[1;37;42m  \u001b[0;0m\u001b[1;37;41m  \u001b[0;0m\u001b[1;37;41m2 \u001b[0;0m\u001b[1;37;42m  \u001b[0;0m\u001b[1;37;42m5 \u001b[0;0m\u001b[1;37;41m  \u001b[0;0m\u001b[1;37;41m  \u001b[0;0m\u001b[1;37;42m  \u001b[0;0m\u001b[1;37;42m  \u001b[0;0m\n",
      "\u001b[1;37;42m4 \u001b[0;0m\u001b[1;37;41m  \u001b[0;0m\u001b[1;37;41m1 \u001b[0;0m\u001b[1;37;41m  \u001b[0;0m\u001b[1;37;42m  \u001b[0;0m\u001b[1;37;41m  \u001b[0;0m\u001b[1;37;41m1 \u001b[0;0m\u001b[1;37;41m1 \u001b[0;0m\u001b[1;37;41m  \u001b[0;0m\u001b[1;37;42m  \u001b[0;0m\n",
      "\u001b[1;37;42m4 \u001b[0;0m\u001b[1;37;41m  \u001b[0;0m\u001b[1;37;41m1 \u001b[0;0m\u001b[1;37;41m  \u001b[0;0m\u001b[1;37;42m  \u001b[0;0m\u001b[1;37;41m  \u001b[0;0m\u001b[1;37;41m1 \u001b[0;0m\u001b[1;37;41m  \u001b[0;0m\u001b[1;37;41m4 \u001b[0;0m\u001b[1;37;42m  \u001b[0;0m\n",
      "\u001b[1;37;42m  \u001b[0;0m\u001b[1;37;42m  \u001b[0;0m\u001b[1;37;41m  \u001b[0;0m\u001b[1;37;41m  \u001b[0;0m\u001b[1;37;42m6 \u001b[0;0m\u001b[1;37;42m  \u001b[0;0m\u001b[1;37;41m  \u001b[0;0m\u001b[1;37;41m  \u001b[0;0m\u001b[1;37;42m  \u001b[0;0m\u001b[1;37;42m4 \u001b[0;0m\n",
      "\u001b[1;37;41m  \u001b[0;0m\u001b[1;37;42m4 \u001b[0;0m\u001b[1;37;42m4 \u001b[0;0m\u001b[1;37;42m  \u001b[0;0m\u001b[1;37;42m  \u001b[0;0m\u001b[1;37;42m  \u001b[0;0m\u001b[1;37;42m  \u001b[0;0m\u001b[1;37;42m4 \u001b[0;0m\u001b[1;37;42m  \u001b[0;0m\u001b[1;37;41m  \u001b[0;0m\n"
     ]
    }
   ],
   "source": [
    "# Test code\n",
    "c = Coloring()\n",
    "c.readFile(\"test4.txt\")\n",
    "c.solve()\n"
   ]
  }
 ],
 "metadata": {
  "kernelspec": {
   "display_name": "Python 3",
   "language": "python",
   "name": "python3"
  },
  "language_info": {
   "codemirror_mode": {
    "name": "ipython",
    "version": 3
   },
   "file_extension": ".py",
   "mimetype": "text/x-python",
   "name": "python",
   "nbconvert_exporter": "python",
   "pygments_lexer": "ipython3",
   "version": "3.11.3"
  },
  "orig_nbformat": 4
 },
 "nbformat": 4,
 "nbformat_minor": 2
}
